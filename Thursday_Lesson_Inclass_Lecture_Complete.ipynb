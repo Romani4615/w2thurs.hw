{
 "cells": [
  {
   "cell_type": "markdown",
   "metadata": {},
   "source": [
    "# Object-Oriented-Programming (OOP)"
   ]
  },
  {
   "cell_type": "code",
   "execution_count": null,
   "metadata": {},
   "outputs": [],
   "source": [
    "OOP is a coding paradigm - a style of structuring code\n",
    "The theory of OOP is that if we split our things in our code into objects and our processes in our code into functions\n",
    "And we make those objects and functions reusable\n",
    "Then we can make complicated code far simpler to read and write"
   ]
  },
  {
   "cell_type": "code",
   "execution_count": 3,
   "metadata": {},
   "outputs": [
    {
     "name": "stdout",
     "output_type": "stream",
     "text": [
      "Help on class set in module builtins:\n",
      "\n",
      "class set(object)\n",
      " |  set() -> new empty set object\n",
      " |  set(iterable) -> new set object\n",
      " |  \n",
      " |  Build an unordered collection of unique elements.\n",
      " |  \n",
      " |  Methods defined here:\n",
      " |  \n",
      " |  __and__(self, value, /)\n",
      " |      Return self&value.\n",
      " |  \n",
      " |  __contains__(...)\n",
      " |      x.__contains__(y) <==> y in x.\n",
      " |  \n",
      " |  __eq__(self, value, /)\n",
      " |      Return self==value.\n",
      " |  \n",
      " |  __ge__(self, value, /)\n",
      " |      Return self>=value.\n",
      " |  \n",
      " |  __getattribute__(self, name, /)\n",
      " |      Return getattr(self, name).\n",
      " |  \n",
      " |  __gt__(self, value, /)\n",
      " |      Return self>value.\n",
      " |  \n",
      " |  __iand__(self, value, /)\n",
      " |      Return self&=value.\n",
      " |  \n",
      " |  __init__(self, /, *args, **kwargs)\n",
      " |      Initialize self.  See help(type(self)) for accurate signature.\n",
      " |  \n",
      " |  __ior__(self, value, /)\n",
      " |      Return self|=value.\n",
      " |  \n",
      " |  __isub__(self, value, /)\n",
      " |      Return self-=value.\n",
      " |  \n",
      " |  __iter__(self, /)\n",
      " |      Implement iter(self).\n",
      " |  \n",
      " |  __ixor__(self, value, /)\n",
      " |      Return self^=value.\n",
      " |  \n",
      " |  __le__(self, value, /)\n",
      " |      Return self<=value.\n",
      " |  \n",
      " |  __len__(self, /)\n",
      " |      Return len(self).\n",
      " |  \n",
      " |  __lt__(self, value, /)\n",
      " |      Return self<value.\n",
      " |  \n",
      " |  __ne__(self, value, /)\n",
      " |      Return self!=value.\n",
      " |  \n",
      " |  __or__(self, value, /)\n",
      " |      Return self|value.\n",
      " |  \n",
      " |  __rand__(self, value, /)\n",
      " |      Return value&self.\n",
      " |  \n",
      " |  __reduce__(...)\n",
      " |      Return state information for pickling.\n",
      " |  \n",
      " |  __repr__(self, /)\n",
      " |      Return repr(self).\n",
      " |  \n",
      " |  __ror__(self, value, /)\n",
      " |      Return value|self.\n",
      " |  \n",
      " |  __rsub__(self, value, /)\n",
      " |      Return value-self.\n",
      " |  \n",
      " |  __rxor__(self, value, /)\n",
      " |      Return value^self.\n",
      " |  \n",
      " |  __sizeof__(...)\n",
      " |      S.__sizeof__() -> size of S in memory, in bytes\n",
      " |  \n",
      " |  __sub__(self, value, /)\n",
      " |      Return self-value.\n",
      " |  \n",
      " |  __xor__(self, value, /)\n",
      " |      Return self^value.\n",
      " |  \n",
      " |  add(...)\n",
      " |      Add an element to a set.\n",
      " |      \n",
      " |      This has no effect if the element is already present.\n",
      " |  \n",
      " |  clear(...)\n",
      " |      Remove all elements from this set.\n",
      " |  \n",
      " |  copy(...)\n",
      " |      Return a shallow copy of a set.\n",
      " |  \n",
      " |  difference(...)\n",
      " |      Return the difference of two or more sets as a new set.\n",
      " |      \n",
      " |      (i.e. all elements that are in this set but not the others.)\n",
      " |  \n",
      " |  difference_update(...)\n",
      " |      Remove all elements of another set from this set.\n",
      " |  \n",
      " |  discard(...)\n",
      " |      Remove an element from a set if it is a member.\n",
      " |      \n",
      " |      If the element is not a member, do nothing.\n",
      " |  \n",
      " |  intersection(...)\n",
      " |      Return the intersection of two sets as a new set.\n",
      " |      \n",
      " |      (i.e. all elements that are in both sets.)\n",
      " |  \n",
      " |  intersection_update(...)\n",
      " |      Update a set with the intersection of itself and another.\n",
      " |  \n",
      " |  isdisjoint(...)\n",
      " |      Return True if two sets have a null intersection.\n",
      " |  \n",
      " |  issubset(...)\n",
      " |      Report whether another set contains this set.\n",
      " |  \n",
      " |  issuperset(...)\n",
      " |      Report whether this set contains another set.\n",
      " |  \n",
      " |  pop(...)\n",
      " |      Remove and return an arbitrary set element.\n",
      " |      Raises KeyError if the set is empty.\n",
      " |  \n",
      " |  remove(...)\n",
      " |      Remove an element from a set; it must be a member.\n",
      " |      \n",
      " |      If the element is not a member, raise a KeyError.\n",
      " |  \n",
      " |  symmetric_difference(...)\n",
      " |      Return the symmetric difference of two sets as a new set.\n",
      " |      \n",
      " |      (i.e. all elements that are in exactly one of the sets.)\n",
      " |  \n",
      " |  symmetric_difference_update(...)\n",
      " |      Update a set with the symmetric difference of itself and another.\n",
      " |  \n",
      " |  union(...)\n",
      " |      Return the union of sets as a new set.\n",
      " |      \n",
      " |      (i.e. all elements that are in either set.)\n",
      " |  \n",
      " |  update(...)\n",
      " |      Update a set with the union of itself and others.\n",
      " |  \n",
      " |  ----------------------------------------------------------------------\n",
      " |  Static methods defined here:\n",
      " |  \n",
      " |  __new__(*args, **kwargs) from builtins.type\n",
      " |      Create and return a new object.  See help(type) for accurate signature.\n",
      " |  \n",
      " |  ----------------------------------------------------------------------\n",
      " |  Data and other attributes defined here:\n",
      " |  \n",
      " |  __hash__ = None\n",
      "\n"
     ]
    }
   ],
   "source": [
    "help(set)"
   ]
  },
  {
   "cell_type": "markdown",
   "metadata": {},
   "source": [
    "## Tasks Today:\n",
    "\n",
    "   \n",
    "\n",
    "1) <b>Creating a Class (Initializing/Declaring)</b> <br>\n",
    "2) <b>Using a Class (Instantiating)</b> <br>\n",
    " &nbsp;&nbsp;&nbsp;&nbsp; a) Creating One Instance <br>\n",
    " &nbsp;&nbsp;&nbsp;&nbsp; b) Creating Multiple Instances <br>\n",
    " &nbsp;&nbsp;&nbsp;&nbsp; c) In-Class Exercise #1 - Create a Class 'Car' and instantiate three different makes of cars <br>\n",
    "3) <b>The \\__init\\__() Method</b> <br>\n",
    " &nbsp;&nbsp;&nbsp;&nbsp; a) The 'self' Attribute <br>\n",
    "4) <b>Class Attributes</b> <br>\n",
    " &nbsp;&nbsp;&nbsp;&nbsp; a) Initializing Attributes <br>\n",
    " &nbsp;&nbsp;&nbsp;&nbsp; b) Setting an Attribute Outside of the \\__init\\__() Method <br>\n",
    " &nbsp;&nbsp;&nbsp;&nbsp; c) Setting Defaults for Attributes <br>\n",
    " &nbsp;&nbsp;&nbsp;&nbsp; d) Accessing Class Attributes <br>\n",
    " &nbsp;&nbsp;&nbsp;&nbsp; e) Changing Class Attributes <br>\n",
    " &nbsp;&nbsp;&nbsp;&nbsp; f) In-Class Exercise #2 - Add a color and wheels attribute to your 'Car' class <br>\n",
    "5) <b>Class Methods</b> <br>\n",
    " &nbsp;&nbsp;&nbsp;&nbsp; a) Creating <br>\n",
    " &nbsp;&nbsp;&nbsp;&nbsp; b) Calling <br>\n",
    " &nbsp;&nbsp;&nbsp;&nbsp; c) Modifying an Attribute's Value Through a Method <br>\n",
    " &nbsp;&nbsp;&nbsp;&nbsp; d) Incrementing an Attribute's Value Through a Method <br>\n",
    " &nbsp;&nbsp;&nbsp;&nbsp; e) In-Class Exercise #3 - Add a method that prints the cars color and wheel number, then call them <br>\n",
    "6) <b>Inheritance</b> <br>\n",
    " &nbsp;&nbsp;&nbsp;&nbsp; a) Syntax for Inheriting from a Parent Class <br>\n",
    " &nbsp;&nbsp;&nbsp;&nbsp; b) The \\__init\\__() Method for a Child Class (super()) <br>\n",
    " &nbsp;&nbsp;&nbsp;&nbsp; c) Defining Attributes and Methods for the Child Class <br>\n",
    " &nbsp;&nbsp;&nbsp;&nbsp; d) Method Overriding <br>\n",
    " &nbsp;&nbsp;&nbsp;&nbsp; e) In-Class Exercise #4 - Create a class 'Ford' that inherits from 'Car' class and initialize it as a Blue Ford Explorer with 4 wheels using the super() method <br>\n",
    "7) <b>Classes as Attributes</b> <br>\n",
    "8) <b>Exercises</b> <br>\n",
    " &nbsp;&nbsp;&nbsp;&nbsp; a) Exercise #1 - Turn the shopping cart program from yesterday into an object-oriented program <br>"
   ]
  },
  {
   "cell_type": "code",
   "execution_count": null,
   "metadata": {},
   "outputs": [],
   "source": []
  },
  {
   "cell_type": "code",
   "execution_count": null,
   "metadata": {},
   "outputs": [],
   "source": []
  },
  {
   "cell_type": "markdown",
   "metadata": {},
   "source": [
    "## Creating a Class (Initializing/Declaring)\n",
    "<p>When creating a class, function, or even a variable you are initializing that object. Initializing and Declaring occur at the same time in Python, whereas in lower level languages you have to declare an object before initializing it. This is the first step in the process of using a class.</p>"
   ]
  },
  {
   "cell_type": "code",
   "execution_count": 22,
   "metadata": {},
   "outputs": [
    {
     "name": "stdout",
     "output_type": "stream",
     "text": [
      "Help on class Dog in module __main__:\n",
      "\n",
      "class Dog(builtins.object)\n",
      " |  Data descriptors defined here:\n",
      " |  \n",
      " |  __dict__\n",
      " |      dictionary for instance variables (if defined)\n",
      " |  \n",
      " |  __weakref__\n",
      " |      list of weak references to the object (if defined)\n",
      " |  \n",
      " |  ----------------------------------------------------------------------\n",
      " |  Data and other attributes defined here:\n",
      " |  \n",
      " |  breed = 'Samoyed'\n",
      " |  \n",
      " |  legs = 4\n",
      " |  \n",
      " |  tail = True\n",
      "\n"
     ]
    }
   ],
   "source": [
    "class Dog:\n",
    "    # constant/predefined attributes (you shouldn't use these much)\n",
    "    breed = 'Samoyed'\n",
    "    legs = 4\n",
    "    tail = True\n",
    "\n",
    "help(Dog)"
   ]
  },
  {
   "cell_type": "code",
   "execution_count": 7,
   "metadata": {},
   "outputs": [],
   "source": [
    "# just like our function definition doesn't do anything on its own\n",
    "def func():\n",
    "    print('I do something!')"
   ]
  },
  {
   "cell_type": "code",
   "execution_count": 8,
   "metadata": {},
   "outputs": [
    {
     "name": "stdout",
     "output_type": "stream",
     "text": [
      "I do something!\n"
     ]
    }
   ],
   "source": [
    "# until we CALL the function\n",
    "func()"
   ]
  },
  {
   "cell_type": "code",
   "execution_count": null,
   "metadata": {},
   "outputs": [],
   "source": [
    "# a class initialization doesn't do anything until we instantiate the class"
   ]
  },
  {
   "cell_type": "markdown",
   "metadata": {},
   "source": [
    "## Using a Class (Instantiating)\n",
    "<p>The process of creating a class is called <i>Instantiating</i>. Each time you create a variable of that type of class, it is referred to as an <i>Instance</i> of that class. This is the second step in the process of using a class.</p>"
   ]
  },
  {
   "cell_type": "markdown",
   "metadata": {},
   "source": [
    "##### Creating One Instance"
   ]
  },
  {
   "cell_type": "code",
   "execution_count": 27,
   "metadata": {},
   "outputs": [
    {
     "name": "stdout",
     "output_type": "stream",
     "text": [
      "<__main__.Dog object at 0x000001EA24793F10>\n"
     ]
    },
    {
     "data": {
      "text/plain": [
       "True"
      ]
     },
     "execution_count": 27,
     "metadata": {},
     "output_type": "execute_result"
    }
   ],
   "source": [
    "# variable_name = class_name()\n",
    "glacier = Dog()\n",
    "print(glacier)\n",
    "# accessing an attribute\n",
    "# instance_name.attribute_name\n",
    "glacier.breed\n",
    "glacier.tail"
   ]
  },
  {
   "cell_type": "markdown",
   "metadata": {},
   "source": [
    "##### Creating Multiple Instances"
   ]
  },
  {
   "cell_type": "code",
   "execution_count": 19,
   "metadata": {},
   "outputs": [
    {
     "name": "stdout",
     "output_type": "stream",
     "text": [
      "True\n",
      "4\n",
      "True\n",
      "\n",
      "\n",
      "Samoyed\n",
      "Husky\n",
      "Samoyed / Husky / English Springer Spaniel / human.\n"
     ]
    }
   ],
   "source": [
    "nanuk = Dog() # husky not a samoyed\n",
    "wesley = Dog() # english springer spaniel not a samoyed\n",
    "james = Dog() # and this actually a human who just happens to be a \"dog\" <-- I mean that in a nice way james is my friend\n",
    "print(nanuk.tail)\n",
    "print(wesley.legs)\n",
    "print(james.tail)\n",
    "print('\\n')\n",
    "\n",
    "# nanuk isn't a samoyed... let's change his breed\n",
    "print(nanuk.breed)\n",
    "# same way that we would reassign any variable\n",
    "nanuk.breed = 'Husky'\n",
    "print(nanuk.breed)\n",
    "\n",
    "wesley.breed = 'English Springer Spaniel'\n",
    "james.breed = 'human.'\n",
    "\n",
    "print(glacier.breed, \"/\", nanuk.breed, \"/\", wesley.breed, \"/\", james.breed)"
   ]
  },
  {
   "cell_type": "code",
   "execution_count": 23,
   "metadata": {},
   "outputs": [
    {
     "name": "stdout",
     "output_type": "stream",
     "text": [
      "<__main__.Dog object at 0x000001EA247798B0>\n",
      "Samoyed\n",
      "True\n",
      "True\n",
      "4\n",
      "True\n",
      "\n",
      "\n",
      "Samoyed\n",
      "Husky\n",
      "Samoyed / Husky / English Springer Spaniel / human.\n"
     ]
    }
   ],
   "source": [
    "# all of this code is just from the above blocks\n",
    "class Dog:\n",
    "    # constant/predefined attributes (you shouldn't use these much)\n",
    "    breed = 'Samoyed'\n",
    "    legs = 4\n",
    "    tail = True\n",
    "    \n",
    "# variable_name = class_name()\n",
    "glacier = Dog()\n",
    "print(glacier)\n",
    "# accessing an attribute\n",
    "# instance_name.attribute_name\n",
    "print(glacier.breed)\n",
    "print(glacier.tail)\n",
    "\n",
    "nanuk = Dog() # husky not a samoyed\n",
    "wesley = Dog() # english springer spaniel not a samoyed\n",
    "james = Dog() # and this actually a human who just happens to be a \"dog\" <-- I mean that in a nice way james is my friend\n",
    "print(nanuk.tail)\n",
    "print(wesley.legs)\n",
    "print(james.tail)\n",
    "print('\\n')\n",
    "\n",
    "# nanuk isn't a samoyed... let's change his breed\n",
    "print(nanuk.breed)\n",
    "# same way that we would reassign any variable\n",
    "nanuk.breed = 'Husky'\n",
    "print(nanuk.breed)\n",
    "\n",
    "wesley.breed = 'English Springer Spaniel'\n",
    "james.breed = 'human.'\n",
    "\n",
    "print(glacier.breed, \"/\", nanuk.breed, \"/\", wesley.breed, \"/\", james.breed)\n"
   ]
  },
  {
   "cell_type": "markdown",
   "metadata": {},
   "source": [
    "##### In-Class Exercise #1 - Create a Class 'Car' and Instantiate three different makes of cars"
   ]
  },
  {
   "cell_type": "code",
   "execution_count": 33,
   "metadata": {},
   "outputs": [
    {
     "name": "stdout",
     "output_type": "stream",
     "text": [
      "<__main__.Car object at 0x000001EA247C7220> is a green 1982 Mini Cooper Countryman\n",
      "<__main__.Car object at 0x000001EA247C7CD0> is a silver 2020 Ford Focus\n",
      "<__main__.Car object at 0x000001EA247C7AF0> is a idk 1995 human not a car why did you make a human car\n",
      "<__main__.Car object at 0x000001EA247939D0> is a blue 1 I made it no I dont\n"
     ]
    }
   ],
   "source": [
    "# make a class of car which has 3 attributes: year, make, and model\n",
    "# and then make 3 instances: make = toyota, model = corolla, year = 3000\n",
    "\n",
    "class Car:\n",
    "    year = 1\n",
    "    make = 'I made it'\n",
    "    model = 'no I dont'\n",
    "    color = 'blue'\n",
    "\n",
    "mini = Car()\n",
    "mini.make = 'Mini Cooper'\n",
    "mini.model = 'Countryman'\n",
    "mini.color = 'green'\n",
    "mini.year = 1982\n",
    "print(f'{mini} is a {mini.color} {mini.year} {mini.make} {mini.model}')\n",
    "\n",
    "ford = Car()\n",
    "ford.make = 'Ford'\n",
    "ford.model = 'Focus'\n",
    "ford.color = 'silver'\n",
    "ford.year = 2020\n",
    "print(f'{ford} is a {ford.color} {ford.year} {ford.make} {ford.model}')\n",
    "\n",
    "james = Car()\n",
    "james.make = 'human'\n",
    "james.model = 'not a car'\n",
    "james.color = 'idk'\n",
    "james.year = '1995'\n",
    "print(f'{james} is a {james.color} {james.year} {james.make} {james.model} why did you make a human car')\n",
    "\n",
    "default_attribute_car = Car()\n",
    "print(f'{default_attribute_car} is a {default_attribute_car.color} {default_attribute_car.year} {default_attribute_car.make} {default_attribute_car.model}')"
   ]
  },
  {
   "cell_type": "markdown",
   "metadata": {},
   "source": [
    "## The \\__init\\__() Method <br>\n",
    "<p>This method is used in almost every created class, and called only once upon the creation of the class instance. This method will initialize all variables needed for the object.</p>"
   ]
  },
  {
   "cell_type": "markdown",
   "metadata": {},
   "source": [
    "### A function inside of a class is called a method"
   ]
  },
  {
   "cell_type": "code",
   "execution_count": null,
   "metadata": {},
   "outputs": [],
   "source": [
    "# just like in a function\n",
    "# we can allow data to be passed in through parameters\n",
    "def func(parameter1, parameter2):\n",
    "    # oh cool now I have data I can use\n",
    "    new_thing = parameter1+parameter2"
   ]
  },
  {
   "cell_type": "code",
   "execution_count": 40,
   "metadata": {},
   "outputs": [
    {
     "name": "stdout",
     "output_type": "stream",
     "text": [
      "<__main__.Dog object at 0x000001EA24785490>\n",
      "Paisley\n"
     ]
    },
    {
     "data": {
      "text/plain": [
       "{'breed': 'mutt but cute', 'tail': True, 'legs': 4, 'name': 'Paisley'}"
      ]
     },
     "execution_count": 40,
     "metadata": {},
     "output_type": "execute_result"
    }
   ],
   "source": [
    "class Dog:\n",
    "    def __init__(self, breed, tail, legs, name):\n",
    "        self.breed = breed\n",
    "        self.tail = tail\n",
    "        self.legs = legs\n",
    "        self.name = name\n",
    "        \n",
    "# when we create an instance of a dog- we have to give information about how that dog looks/is/behaves\n",
    "# aka we need to give its attributes values\n",
    "paisley = Dog(breed='mutt but cute', tail=True, legs=4, name='Paisley')\n",
    "\n",
    "print(paisley)\n",
    "print(paisley.name)\n",
    "\n",
    "# if you want to see all attributes of an instance of the class\n",
    "# you can use the instance.__dict__ attribute that is built in to every class (if you used the __init__ method)\n",
    "paisley.__dict__"
   ]
  },
  {
   "cell_type": "markdown",
   "metadata": {},
   "source": [
    "##### The 'self' Attribute <br>\n",
    "<p>This attribute is required to keep track of specific instance's attributes. Without the self attribute, the program would not know how to reference or keep track of an instance's attributes.</p>"
   ]
  },
  {
   "cell_type": "code",
   "execution_count": 43,
   "metadata": {},
   "outputs": [
    {
     "name": "stdout",
     "output_type": "stream",
     "text": [
      "<__main__.Dog object at 0x000001EA24780040>\n",
      "Paisley\n"
     ]
    },
    {
     "data": {
      "text/plain": [
       "{'breed': 'mutt but cute', 'tail': True, 'legs': 4, 'name': 'Paisley'}"
      ]
     },
     "execution_count": 43,
     "metadata": {},
     "output_type": "execute_result"
    }
   ],
   "source": [
    "# proper/most common/best practice format for initializing a class then instantiating one instance of the class\n",
    "class Dog:\n",
    "    def __init__(self, breed, tail, legs, name):\n",
    "        self.breed = breed\n",
    "        self.tail = tail\n",
    "        self.legs = legs\n",
    "        self.name = name\n",
    "        \n",
    "# when we create an instance of a dog- we have to give information about how that dog looks/is/behaves\n",
    "# aka we need to give its attributes values\n",
    "paisley = Dog('mutt but cute', True, 4, 'Paisley')\n",
    "\n",
    "print(paisley)\n",
    "print(paisley.name)\n",
    "\n",
    "# if you want to see all attributes of an instance of the class\n",
    "# you can use the instance.__dict__ attribute that is built in to every class (if you used the __init__ method)\n",
    "paisley.__dict__"
   ]
  },
  {
   "cell_type": "code",
   "execution_count": 42,
   "metadata": {},
   "outputs": [
    {
     "name": "stdout",
     "output_type": "stream",
     "text": [
      "<__main__.Dog object at 0x000001EA247679D0>\n",
      "Paisley\n"
     ]
    },
    {
     "data": {
      "text/plain": [
       "{'breed': 'mutt but cute', 'tail': True, 'legs': 4, 'name': 'Paisley'}"
      ]
     },
     "execution_count": 42,
     "metadata": {},
     "output_type": "execute_result"
    }
   ],
   "source": [
    "# this block shows the difference between placeholder parameters and attribute names\n",
    "class Dog:\n",
    "    def __init__(self, b, t, l, n):\n",
    "        self.breed = b\n",
    "        self.tail = t\n",
    "        self.legs = l\n",
    "        self.name = n\n",
    "        \n",
    "# when we create an instance of a dog- we have to give information about how that dog looks/is/behaves\n",
    "# aka we need to give its attributes values\n",
    "paisley = Dog(b='mutt but cute', t=True, l=4, n='Paisley')\n",
    "\n",
    "print(paisley)\n",
    "# accessing the name attribute of the paisley instance of the dog class\n",
    "print(paisley.name)\n",
    "\n",
    "# if you want to see all attributes of an instance of the class\n",
    "# you can use the instance.__dict__ attribute that is built in to every class (if you used the __init__ method)\n",
    "paisley.__dict__"
   ]
  },
  {
   "cell_type": "markdown",
   "metadata": {},
   "source": [
    "## Class Attributes <br>\n",
    "<p>While variables are inside of a class, they are referred to as attributes and not variables. When someone says 'attribute' you know they're speaking about a class. Attributes can be initialized through the init method, or outside of it.</p>"
   ]
  },
  {
   "cell_type": "markdown",
   "metadata": {},
   "source": [
    "##### Initializing Attributes"
   ]
  },
  {
   "cell_type": "code",
   "execution_count": null,
   "metadata": {},
   "outputs": [],
   "source": [
    "# see above"
   ]
  },
  {
   "cell_type": "markdown",
   "metadata": {},
   "source": [
    "##### Accessing Class Attributes"
   ]
  },
  {
   "cell_type": "code",
   "execution_count": null,
   "metadata": {
    "scrolled": true
   },
   "outputs": [],
   "source": [
    "# See Above"
   ]
  },
  {
   "cell_type": "markdown",
   "metadata": {},
   "source": [
    "##### Setting Defaults for Attributes"
   ]
  },
  {
   "cell_type": "code",
   "execution_count": 48,
   "metadata": {},
   "outputs": [
    {
     "name": "stdout",
     "output_type": "stream",
     "text": [
      "<__main__.Dog object at 0x000001EA24793250>\n",
      "Paisley\n",
      "8\n",
      "big fluffy\n"
     ]
    },
    {
     "data": {
      "text/plain": [
       "{'breed': 'mutt but cute', 'tail': 'big fluffy', 'legs': 8, 'name': 'Paisley'}"
      ]
     },
     "execution_count": 48,
     "metadata": {},
     "output_type": "execute_result"
    }
   ],
   "source": [
    "# setting a default value for tail and legs\n",
    "class Dog:\n",
    "    def __init__(self, breed, name, tail=True, legs=4):\n",
    "        self.breed = breed\n",
    "        self.tail = tail\n",
    "        self.legs = legs\n",
    "        self.name = name\n",
    "\n",
    "paisley = Dog('mutt but cute', 'Paisley', 'big fluffy', 8)\n",
    "\n",
    "print(paisley)\n",
    "print(paisley.name)\n",
    "print(paisley.legs)\n",
    "print(paisley.tail)\n",
    "\n",
    "paisley.__dict__"
   ]
  },
  {
   "cell_type": "markdown",
   "metadata": {},
   "source": [
    "##### Changing Class Attributes <br>\n",
    "<p>Keep in mind there are global class attributes and then there are attributes only available to each class instance which won't effect other classes.</p>"
   ]
  },
  {
   "cell_type": "code",
   "execution_count": 78,
   "metadata": {},
   "outputs": [
    {
     "name": "stdout",
     "output_type": "stream",
     "text": [
      "{'breed': 'Siberian Husky', 'tail': True, 'legs': 4, 'name': 'Nanuk'}\n",
      "big and fluffy\n",
      "{'breed': 'Siberian Husky', 'tail': 'big and fluffy', 'legs': 4, 'name': 'Nanuk'}\n"
     ]
    }
   ],
   "source": [
    "class Dog:\n",
    "    def __init__(self, breed, name, tail=True, legs=4):\n",
    "        self.breed = breed\n",
    "        self.tail = tail\n",
    "        self.legs = legs\n",
    "        self.name = name\n",
    "        \n",
    "nanuk = Dog('Siberian Husky', 'Nanuk')\n",
    "print(nanuk.__dict__)\n",
    "\n",
    "nanuk.tail = 'big and fluffy'\n",
    "print(nanuk.tail)\n",
    "print(nanuk.__dict__)\n"
   ]
  },
  {
   "cell_type": "code",
   "execution_count": null,
   "metadata": {},
   "outputs": [],
   "source": []
  },
  {
   "cell_type": "markdown",
   "metadata": {},
   "source": [
    "##### In-Class Exercise #2 - Add a doors and seats attribute to your 'Car' class then print out two different instances with different doors and seats"
   ]
  },
  {
   "cell_type": "code",
   "execution_count": 67,
   "metadata": {},
   "outputs": [
    {
     "name": "stdout",
     "output_type": "stream",
     "text": [
      "{'year': 1994, 'make': 'Toyota', 'model': 'Camry', 'doors': 4, 'seats': 5}\n",
      "{'year': 1982, 'make': 'Aston Martin', 'model': 'DB5', 'doors': 2, 'seats': 2}\n",
      "{'year': 2007, 'make': 'Chevrolet', 'model': 'Suburban', 'doors': 4, 'seats': 8}\n",
      "{'year': 1982, 'make': 'Aston Martin', 'model': 'DB5', 'doors': 2, 'seats': 5}\n"
     ]
    }
   ],
   "source": [
    "class Car:\n",
    "    # what attributes do I need? #5 of them - year, make, model, doors, seats\n",
    "    def __init__(self, year, make, model, seats=5, doors=4):\n",
    "        self.year = year\n",
    "        self.make = make\n",
    "        self.model = model\n",
    "        self.doors = doors\n",
    "        self.seats = seats\n",
    "\n",
    "# uses default values of seats and doors\n",
    "instance1 = Car(1994, 'Toyota', 'Camry')\n",
    "\n",
    "# changes from default values of seats and doors\n",
    "instance2 = Car(1982, 'Aston Martin', 'DB5', 2, 2)\n",
    "\n",
    "# uses the default value for doors, but changes the seats value\n",
    "instance3 = Car(2007, 'Chevrolet', 'Suburban', 8)\n",
    "\n",
    "# uses the default value for seats, but changes the doors value using a keyword argument instead of positional argument\n",
    "instance4 = Car(1982, 'Aston Martin', 'DB5', doors=2)\n",
    "\n",
    "print(instance1.__dict__)\n",
    "print(instance2.__dict__)\n",
    "print(instance3.__dict__)\n",
    "print(instance4.__dict__)"
   ]
  },
  {
   "cell_type": "markdown",
   "metadata": {},
   "source": [
    "## Class Methods <br>\n",
    "<p>While inside of a class, functions are referred to as 'methods'. If you hear someone mention methods, they're speaking about classes. Methods are essentially functions, but only callable on the instances of a class.</p>"
   ]
  },
  {
   "cell_type": "markdown",
   "metadata": {},
   "source": [
    "##### Creating"
   ]
  },
  {
   "cell_type": "code",
   "execution_count": 73,
   "metadata": {},
   "outputs": [
    {
     "name": "stdout",
     "output_type": "stream",
     "text": [
      "{'breed': 'Siberian Husky', 'tail': 'big and fluffy', 'legs': 4, 'name': 'Nanuk'}\n"
     ]
    }
   ],
   "source": [
    "class Dog:\n",
    "    def __init__(self, breed, name, tail=True, legs=4):\n",
    "        self.breed = breed\n",
    "        self.tail = tail\n",
    "        self.legs = legs\n",
    "        self.name = name\n",
    "    \n",
    "    # newly created class method\n",
    "    def good_boy(self, minutes):\n",
    "        print(f'You take {self.name} for a {minutes} minutes walk on his {self.legs} legs. {self.name} is wagging his {self.tail} tail because he is a good boy.')\n",
    "        \n",
    "nanuk = Dog('Siberian Husky', 'Nanuk', 'big and fluffy')\n",
    "print(nanuk.__dict__)"
   ]
  },
  {
   "cell_type": "markdown",
   "metadata": {},
   "source": [
    "##### Calling"
   ]
  },
  {
   "cell_type": "code",
   "execution_count": 77,
   "metadata": {},
   "outputs": [
    {
     "name": "stdout",
     "output_type": "stream",
     "text": [
      "You take Nanuk for a 47 minutes walk on his 4 legs. Nanuk is wagging his big and fluffy tail because he is a good boy.\n",
      "You take Nanuk for a 47 minutes walk on his 4 legs. Nanuk is wagging his big and fluffy tail because he is a good boy.\n"
     ]
    }
   ],
   "source": [
    "# the block above defines our class including its methods and instantiates one dog, nanuk\n",
    "# lets call the good_boy() method on nanuk\n",
    "# best practice: instance_name.method_name(parameters)\n",
    "nanuk.good_boy(47)\n",
    "\n",
    "# just to illustrate that good_boy is a method belonging to the class Dog and nanuk takes the place of self\n",
    "# learn the way to call class methods on line 3 not the one on line 8\n",
    "Dog.good_boy(self=nanuk,minutes=47)"
   ]
  },
  {
   "cell_type": "markdown",
   "metadata": {},
   "source": [
    "##### Modifying an Attribute's Value Through a Method"
   ]
  },
  {
   "cell_type": "code",
   "execution_count": 83,
   "metadata": {},
   "outputs": [
    {
     "name": "stdout",
     "output_type": "stream",
     "text": [
      "{'breed': 'Siberian Husky', 'tail': 'big and fluffy', 'legs': 4, 'name': 'Nanuk'}\n",
      "You change Nanuk's name to Balto.\n"
     ]
    }
   ],
   "source": [
    "class Dog:\n",
    "    def __init__(self, breed, name, tail=True, legs=4):\n",
    "        self.breed = breed\n",
    "        self.tail = tail\n",
    "        self.legs = legs\n",
    "        self.name = name\n",
    "    \n",
    "    # newly created class method\n",
    "    def good_boy(self, minutes):\n",
    "        print(f'You take {self.name} for a {minutes} minutes walk on his {self.legs} legs. {self.name} is wagging his {self.tail} tail because he is a good boy.')\n",
    "    \n",
    "    def change_name(self, new_name):\n",
    "        print(f\"You change {self.name}'s name to {new_name}.\")\n",
    "        self.name = new_name\n",
    "\n",
    "nanuk = Dog('Siberian Husky', 'Nanuk', 'big and fluffy')\n",
    "print(nanuk.__dict__)\n",
    "\n",
    "nanuk.change_name('Balto')"
   ]
  },
  {
   "cell_type": "markdown",
   "metadata": {},
   "source": [
    "##### Incrementing an Attribute's Value Through a Method"
   ]
  },
  {
   "cell_type": "code",
   "execution_count": 86,
   "metadata": {},
   "outputs": [
    {
     "name": "stdout",
     "output_type": "stream",
     "text": [
      "{'breed': 'Siberian Husky', 'tail': 'big and fluffy', 'legs': 4, 'name': 'Nanuk', 'age': 0}\n",
      "You change Nanuk's name to Balto.\n",
      "It's Balto's birthday! Balto is now 1 years old (7 in dog years).\n",
      "It's Balto's birthday! Balto is now 2 years old (14 in dog years).\n",
      "It's Balto's birthday! Balto is now 3 years old (21 in dog years).\n"
     ]
    }
   ],
   "source": [
    "# exact same idea as modifying the value\n",
    "# we're just talking about a numerical value and doing like += 1\n",
    "class Dog:\n",
    "    def __init__(self, breed, name, tail=True, legs=4, age=0):\n",
    "        self.breed = breed\n",
    "        self.tail = tail\n",
    "        self.legs = legs\n",
    "        self.name = name\n",
    "        self.age = age\n",
    "    \n",
    "    # newly created class method\n",
    "    def good_boy(self, minutes):\n",
    "        print(f'You take {self.name} for a {minutes} minutes walk on his {self.legs} legs. {self.name} is wagging his {self.tail} tail because he is a good boy.')\n",
    "    \n",
    "    def change_name(self, new_name):\n",
    "        print(f\"You change {self.name}'s name to {new_name}.\")\n",
    "        self.name = new_name\n",
    "        \n",
    "    def birthday(self):\n",
    "        self.age = self.age + 1\n",
    "        print(f\"It's {self.name}'s birthday! {self.name} is now {self.age} years old ({self.age*7} in dog years).\")\n",
    "\n",
    "nanuk = Dog('Siberian Husky', 'Nanuk', 'big and fluffy')\n",
    "print(nanuk.__dict__)\n",
    "\n",
    "nanuk.change_name('Balto')\n",
    "nanuk.birthday()\n",
    "nanuk.birthday()\n",
    "nanuk.birthday()"
   ]
  },
  {
   "cell_type": "markdown",
   "metadata": {},
   "source": [
    "##### In-Class Exercise #3 - Add a method that takes in three parameters of year, doors and seats and prints out a formatted print statement with make, model, year, seats, and doors"
   ]
  },
  {
   "cell_type": "code",
   "execution_count": 92,
   "metadata": {},
   "outputs": [
    {
     "name": "stdout",
     "output_type": "stream",
     "text": [
      "2019 McLaren P1 have two door and 2 seat.\n"
     ]
    }
   ],
   "source": [
    "\n",
    "# Output: This car is from 2019 and is a Ford Expolorer and has 4 doors and 5 seats\n",
    "\n",
    "class Car:\n",
    "    def __init__(self, year, make, model):\n",
    "        self.year = year\n",
    "        self.make = make\n",
    "        self.model = model\n",
    "        \n",
    "    def howmanydoor(self, doors, seats):\n",
    "        print(f\"{self.year} {self.make} {self.model} have {doors} door and {seats} seat.\")\n",
    "\n",
    "mclaren = Car(2019, 'McLaren', 'P1')\n",
    "mclaren.__dict__\n",
    "\n",
    "mclaren.howmanydoor('two', 2)"
   ]
  },
  {
   "cell_type": "markdown",
   "metadata": {},
   "source": [
    "## Inheritance <br>\n",
    "<p>You can create a child-parent relationship between two classes by using inheritance. What this allows you to do is have overriding methods, but also inherit traits from the parent class. Think of it as an actual parent and child, the child will inherit the parent's genes, as will the classes in OOP</p>"
   ]
  },
  {
   "cell_type": "markdown",
   "metadata": {},
   "source": [
    "##### Syntax for Inheriting from a Parent Class"
   ]
  },
  {
   "cell_type": "code",
   "execution_count": null,
   "metadata": {},
   "outputs": [],
   "source": []
  },
  {
   "cell_type": "markdown",
   "metadata": {},
   "source": [
    "##### The \\__init\\__() Method for a Child Class - super()"
   ]
  },
  {
   "cell_type": "code",
   "execution_count": null,
   "metadata": {
    "scrolled": true
   },
   "outputs": [],
   "source": []
  },
  {
   "cell_type": "markdown",
   "metadata": {},
   "source": [
    "##### Defining Attributes and Methods for the Child Class"
   ]
  },
  {
   "cell_type": "code",
   "execution_count": null,
   "metadata": {},
   "outputs": [],
   "source": [
    "# See Above"
   ]
  },
  {
   "cell_type": "markdown",
   "metadata": {},
   "source": [
    "##### Method Overriding"
   ]
  },
  {
   "cell_type": "code",
   "execution_count": null,
   "metadata": {},
   "outputs": [],
   "source": [
    "# See Above"
   ]
  },
  {
   "cell_type": "markdown",
   "metadata": {},
   "source": [
    "## Classes as Attributes <br>\n",
    "<p>Classes can also be used as attributes within another class. This is useful in situations where you need to keep variables locally stored, instead of globally stored.</p>"
   ]
  },
  {
   "cell_type": "code",
   "execution_count": null,
   "metadata": {},
   "outputs": [],
   "source": []
  },
  {
   "cell_type": "markdown",
   "metadata": {},
   "source": [
    "# Exercises"
   ]
  },
  {
   "cell_type": "code",
   "execution_count": null,
   "metadata": {},
   "outputs": [],
   "source": []
  },
  {
   "cell_type": "markdown",
   "metadata": {},
   "source": [
    "### Exercise 1 - Turn the shopping cart program from yesterday into an object-oriented program"
   ]
  },
  {
   "cell_type": "code",
   "execution_count": null,
   "metadata": {},
   "outputs": [],
   "source": [
    "# Create a class called cart that retains items and has methods to add, remove, and show\n",
    "# cart class has an attribute of a cart list\n",
    "# cart class has methods\n",
    "    # one for adding\n",
    "    # one for removing\n",
    "    # one for showing\n",
    "    # and one for checkout maybe?\n",
    "\n",
    "#extra:\n",
    "    # adding a second class of items\n",
    "    # where each item you add to the cart is an object with a name, price, and whatever other attribute you want\n",
    "class Cart():\n",
    "    def __init__(self):\n",
    "        pass\n",
    "    \n",
    "    def add(self):\n",
    "        pass\n",
    "    \n",
    "    def remove(self):\n",
    "        pass\n",
    "    \n",
    "    def show(self):\n",
    "        pass\n",
    "\n",
    "# instantiation of your cart object\n",
    "mycart = Cart() # blah blah whatever parameters you need\n",
    "while True:\n",
    "    #asking for user input\n",
    "    # if the user says add\n",
    "    if 'add':\n",
    "        item_to_add = 'what am I adding?'\n",
    "        mycart.add(item_to_add)"
   ]
  },
  {
   "cell_type": "markdown",
   "metadata": {},
   "source": [
    "### Exercise 2 - Write a Python class which has two methods get_String and print_String. get_String accept a string from the user and print_String print the string in upper case"
   ]
  },
  {
   "cell_type": "code",
   "execution_count": null,
   "metadata": {},
   "outputs": [],
   "source": []
  }
 ],
 "metadata": {
  "kernelspec": {
   "display_name": "Python 3",
   "language": "python",
   "name": "python3"
  },
  "language_info": {
   "codemirror_mode": {
    "name": "ipython",
    "version": 3
   },
   "file_extension": ".py",
   "mimetype": "text/x-python",
   "name": "python",
   "nbconvert_exporter": "python",
   "pygments_lexer": "ipython3",
   "version": "3.8.8"
  }
 },
 "nbformat": 4,
 "nbformat_minor": 2
}
